{
  "nbformat": 4,
  "nbformat_minor": 0,
  "metadata": {
    "colab": {
      "provenance": [],
      "authorship_tag": "ABX9TyM7SATm+208xiV+g9s1eDNq",
      "include_colab_link": true
    },
    "kernelspec": {
      "name": "python3",
      "display_name": "Python 3"
    },
    "language_info": {
      "name": "python"
    },
    "accelerator": "GPU",
    "gpuClass": "standard",
    "widgets": {
      "application/vnd.jupyter.widget-state+json": {
        "b64b783ba81a437ebc3aada10c562873": {
          "model_module": "@jupyter-widgets/controls",
          "model_name": "HBoxModel",
          "model_module_version": "1.5.0",
          "state": {
            "_dom_classes": [],
            "_model_module": "@jupyter-widgets/controls",
            "_model_module_version": "1.5.0",
            "_model_name": "HBoxModel",
            "_view_count": null,
            "_view_module": "@jupyter-widgets/controls",
            "_view_module_version": "1.5.0",
            "_view_name": "HBoxView",
            "box_style": "",
            "children": [
              "IPY_MODEL_280d809d3cb64fd9a669128b3c060abd",
              "IPY_MODEL_d9356f1c6bdf4da7815c1e41505af14e",
              "IPY_MODEL_c07d80d6e6a64a849d77725482c5cb22"
            ],
            "layout": "IPY_MODEL_67faec87c6ec47a7982a6d83846d33c8"
          }
        },
        "280d809d3cb64fd9a669128b3c060abd": {
          "model_module": "@jupyter-widgets/controls",
          "model_name": "HTMLModel",
          "model_module_version": "1.5.0",
          "state": {
            "_dom_classes": [],
            "_model_module": "@jupyter-widgets/controls",
            "_model_module_version": "1.5.0",
            "_model_name": "HTMLModel",
            "_view_count": null,
            "_view_module": "@jupyter-widgets/controls",
            "_view_module_version": "1.5.0",
            "_view_name": "HTMLView",
            "description": "",
            "description_tooltip": null,
            "layout": "IPY_MODEL_0afcaf2525de4bd1a1c06cfceec8cd9e",
            "placeholder": "​",
            "style": "IPY_MODEL_4fb4c1aaffb3406dbdee4f3b5437045d",
            "value": "Downloading (…)lve/main/config.json: 100%"
          }
        },
        "d9356f1c6bdf4da7815c1e41505af14e": {
          "model_module": "@jupyter-widgets/controls",
          "model_name": "FloatProgressModel",
          "model_module_version": "1.5.0",
          "state": {
            "_dom_classes": [],
            "_model_module": "@jupyter-widgets/controls",
            "_model_module_version": "1.5.0",
            "_model_name": "FloatProgressModel",
            "_view_count": null,
            "_view_module": "@jupyter-widgets/controls",
            "_view_module_version": "1.5.0",
            "_view_name": "ProgressView",
            "bar_style": "success",
            "description": "",
            "description_tooltip": null,
            "layout": "IPY_MODEL_a477ce8be4c448f9a0a90f03fdbe034b",
            "max": 483,
            "min": 0,
            "orientation": "horizontal",
            "style": "IPY_MODEL_24337d7eaef746e5b50cbca715ab3b34",
            "value": 483
          }
        },
        "c07d80d6e6a64a849d77725482c5cb22": {
          "model_module": "@jupyter-widgets/controls",
          "model_name": "HTMLModel",
          "model_module_version": "1.5.0",
          "state": {
            "_dom_classes": [],
            "_model_module": "@jupyter-widgets/controls",
            "_model_module_version": "1.5.0",
            "_model_name": "HTMLModel",
            "_view_count": null,
            "_view_module": "@jupyter-widgets/controls",
            "_view_module_version": "1.5.0",
            "_view_name": "HTMLView",
            "description": "",
            "description_tooltip": null,
            "layout": "IPY_MODEL_6159fd51dea44db58e5561a9a8273182",
            "placeholder": "​",
            "style": "IPY_MODEL_94be2320ca664bc99803fda5d2215ae2",
            "value": " 483/483 [00:00&lt;00:00, 6.61kB/s]"
          }
        },
        "67faec87c6ec47a7982a6d83846d33c8": {
          "model_module": "@jupyter-widgets/base",
          "model_name": "LayoutModel",
          "model_module_version": "1.2.0",
          "state": {
            "_model_module": "@jupyter-widgets/base",
            "_model_module_version": "1.2.0",
            "_model_name": "LayoutModel",
            "_view_count": null,
            "_view_module": "@jupyter-widgets/base",
            "_view_module_version": "1.2.0",
            "_view_name": "LayoutView",
            "align_content": null,
            "align_items": null,
            "align_self": null,
            "border": null,
            "bottom": null,
            "display": null,
            "flex": null,
            "flex_flow": null,
            "grid_area": null,
            "grid_auto_columns": null,
            "grid_auto_flow": null,
            "grid_auto_rows": null,
            "grid_column": null,
            "grid_gap": null,
            "grid_row": null,
            "grid_template_areas": null,
            "grid_template_columns": null,
            "grid_template_rows": null,
            "height": null,
            "justify_content": null,
            "justify_items": null,
            "left": null,
            "margin": null,
            "max_height": null,
            "max_width": null,
            "min_height": null,
            "min_width": null,
            "object_fit": null,
            "object_position": null,
            "order": null,
            "overflow": null,
            "overflow_x": null,
            "overflow_y": null,
            "padding": null,
            "right": null,
            "top": null,
            "visibility": null,
            "width": null
          }
        },
        "0afcaf2525de4bd1a1c06cfceec8cd9e": {
          "model_module": "@jupyter-widgets/base",
          "model_name": "LayoutModel",
          "model_module_version": "1.2.0",
          "state": {
            "_model_module": "@jupyter-widgets/base",
            "_model_module_version": "1.2.0",
            "_model_name": "LayoutModel",
            "_view_count": null,
            "_view_module": "@jupyter-widgets/base",
            "_view_module_version": "1.2.0",
            "_view_name": "LayoutView",
            "align_content": null,
            "align_items": null,
            "align_self": null,
            "border": null,
            "bottom": null,
            "display": null,
            "flex": null,
            "flex_flow": null,
            "grid_area": null,
            "grid_auto_columns": null,
            "grid_auto_flow": null,
            "grid_auto_rows": null,
            "grid_column": null,
            "grid_gap": null,
            "grid_row": null,
            "grid_template_areas": null,
            "grid_template_columns": null,
            "grid_template_rows": null,
            "height": null,
            "justify_content": null,
            "justify_items": null,
            "left": null,
            "margin": null,
            "max_height": null,
            "max_width": null,
            "min_height": null,
            "min_width": null,
            "object_fit": null,
            "object_position": null,
            "order": null,
            "overflow": null,
            "overflow_x": null,
            "overflow_y": null,
            "padding": null,
            "right": null,
            "top": null,
            "visibility": null,
            "width": null
          }
        },
        "4fb4c1aaffb3406dbdee4f3b5437045d": {
          "model_module": "@jupyter-widgets/controls",
          "model_name": "DescriptionStyleModel",
          "model_module_version": "1.5.0",
          "state": {
            "_model_module": "@jupyter-widgets/controls",
            "_model_module_version": "1.5.0",
            "_model_name": "DescriptionStyleModel",
            "_view_count": null,
            "_view_module": "@jupyter-widgets/base",
            "_view_module_version": "1.2.0",
            "_view_name": "StyleView",
            "description_width": ""
          }
        },
        "a477ce8be4c448f9a0a90f03fdbe034b": {
          "model_module": "@jupyter-widgets/base",
          "model_name": "LayoutModel",
          "model_module_version": "1.2.0",
          "state": {
            "_model_module": "@jupyter-widgets/base",
            "_model_module_version": "1.2.0",
            "_model_name": "LayoutModel",
            "_view_count": null,
            "_view_module": "@jupyter-widgets/base",
            "_view_module_version": "1.2.0",
            "_view_name": "LayoutView",
            "align_content": null,
            "align_items": null,
            "align_self": null,
            "border": null,
            "bottom": null,
            "display": null,
            "flex": null,
            "flex_flow": null,
            "grid_area": null,
            "grid_auto_columns": null,
            "grid_auto_flow": null,
            "grid_auto_rows": null,
            "grid_column": null,
            "grid_gap": null,
            "grid_row": null,
            "grid_template_areas": null,
            "grid_template_columns": null,
            "grid_template_rows": null,
            "height": null,
            "justify_content": null,
            "justify_items": null,
            "left": null,
            "margin": null,
            "max_height": null,
            "max_width": null,
            "min_height": null,
            "min_width": null,
            "object_fit": null,
            "object_position": null,
            "order": null,
            "overflow": null,
            "overflow_x": null,
            "overflow_y": null,
            "padding": null,
            "right": null,
            "top": null,
            "visibility": null,
            "width": null
          }
        },
        "24337d7eaef746e5b50cbca715ab3b34": {
          "model_module": "@jupyter-widgets/controls",
          "model_name": "ProgressStyleModel",
          "model_module_version": "1.5.0",
          "state": {
            "_model_module": "@jupyter-widgets/controls",
            "_model_module_version": "1.5.0",
            "_model_name": "ProgressStyleModel",
            "_view_count": null,
            "_view_module": "@jupyter-widgets/base",
            "_view_module_version": "1.2.0",
            "_view_name": "StyleView",
            "bar_color": null,
            "description_width": ""
          }
        },
        "6159fd51dea44db58e5561a9a8273182": {
          "model_module": "@jupyter-widgets/base",
          "model_name": "LayoutModel",
          "model_module_version": "1.2.0",
          "state": {
            "_model_module": "@jupyter-widgets/base",
            "_model_module_version": "1.2.0",
            "_model_name": "LayoutModel",
            "_view_count": null,
            "_view_module": "@jupyter-widgets/base",
            "_view_module_version": "1.2.0",
            "_view_name": "LayoutView",
            "align_content": null,
            "align_items": null,
            "align_self": null,
            "border": null,
            "bottom": null,
            "display": null,
            "flex": null,
            "flex_flow": null,
            "grid_area": null,
            "grid_auto_columns": null,
            "grid_auto_flow": null,
            "grid_auto_rows": null,
            "grid_column": null,
            "grid_gap": null,
            "grid_row": null,
            "grid_template_areas": null,
            "grid_template_columns": null,
            "grid_template_rows": null,
            "height": null,
            "justify_content": null,
            "justify_items": null,
            "left": null,
            "margin": null,
            "max_height": null,
            "max_width": null,
            "min_height": null,
            "min_width": null,
            "object_fit": null,
            "object_position": null,
            "order": null,
            "overflow": null,
            "overflow_x": null,
            "overflow_y": null,
            "padding": null,
            "right": null,
            "top": null,
            "visibility": null,
            "width": null
          }
        },
        "94be2320ca664bc99803fda5d2215ae2": {
          "model_module": "@jupyter-widgets/controls",
          "model_name": "DescriptionStyleModel",
          "model_module_version": "1.5.0",
          "state": {
            "_model_module": "@jupyter-widgets/controls",
            "_model_module_version": "1.5.0",
            "_model_name": "DescriptionStyleModel",
            "_view_count": null,
            "_view_module": "@jupyter-widgets/base",
            "_view_module_version": "1.2.0",
            "_view_name": "StyleView",
            "description_width": ""
          }
        },
        "2b6124ca97a14d5394cf4641554bcb7e": {
          "model_module": "@jupyter-widgets/controls",
          "model_name": "HBoxModel",
          "model_module_version": "1.5.0",
          "state": {
            "_dom_classes": [],
            "_model_module": "@jupyter-widgets/controls",
            "_model_module_version": "1.5.0",
            "_model_name": "HBoxModel",
            "_view_count": null,
            "_view_module": "@jupyter-widgets/controls",
            "_view_module_version": "1.5.0",
            "_view_name": "HBoxView",
            "box_style": "",
            "children": [
              "IPY_MODEL_afcc8378c5ff44c6a0fcf8a441f063e4",
              "IPY_MODEL_7fa7bc1e23484a7b9d77ce1601c8579e",
              "IPY_MODEL_0c87a523ad1746dca1dbca1ac2dfe0ac"
            ],
            "layout": "IPY_MODEL_360095d7ddfb44159dc49292108d59ab"
          }
        },
        "afcc8378c5ff44c6a0fcf8a441f063e4": {
          "model_module": "@jupyter-widgets/controls",
          "model_name": "HTMLModel",
          "model_module_version": "1.5.0",
          "state": {
            "_dom_classes": [],
            "_model_module": "@jupyter-widgets/controls",
            "_model_module_version": "1.5.0",
            "_model_name": "HTMLModel",
            "_view_count": null,
            "_view_module": "@jupyter-widgets/controls",
            "_view_module_version": "1.5.0",
            "_view_name": "HTMLView",
            "description": "",
            "description_tooltip": null,
            "layout": "IPY_MODEL_89c09746e4d449358c2824698f868e91",
            "placeholder": "​",
            "style": "IPY_MODEL_59a863a75b6f4692be14548b30112e0a",
            "value": "Downloading (…)&quot;tf_model.h5&quot;;: 100%"
          }
        },
        "7fa7bc1e23484a7b9d77ce1601c8579e": {
          "model_module": "@jupyter-widgets/controls",
          "model_name": "FloatProgressModel",
          "model_module_version": "1.5.0",
          "state": {
            "_dom_classes": [],
            "_model_module": "@jupyter-widgets/controls",
            "_model_module_version": "1.5.0",
            "_model_name": "FloatProgressModel",
            "_view_count": null,
            "_view_module": "@jupyter-widgets/controls",
            "_view_module_version": "1.5.0",
            "_view_name": "ProgressView",
            "bar_style": "success",
            "description": "",
            "description_tooltip": null,
            "layout": "IPY_MODEL_6398f2cdc12b4505aa0d804135dde8a1",
            "max": 363423424,
            "min": 0,
            "orientation": "horizontal",
            "style": "IPY_MODEL_bb6ddb23c9554395ac405f7b4626af45",
            "value": 363423424
          }
        },
        "0c87a523ad1746dca1dbca1ac2dfe0ac": {
          "model_module": "@jupyter-widgets/controls",
          "model_name": "HTMLModel",
          "model_module_version": "1.5.0",
          "state": {
            "_dom_classes": [],
            "_model_module": "@jupyter-widgets/controls",
            "_model_module_version": "1.5.0",
            "_model_name": "HTMLModel",
            "_view_count": null,
            "_view_module": "@jupyter-widgets/controls",
            "_view_module_version": "1.5.0",
            "_view_name": "HTMLView",
            "description": "",
            "description_tooltip": null,
            "layout": "IPY_MODEL_74003ec49f234413b612a3f1ee87181d",
            "placeholder": "​",
            "style": "IPY_MODEL_3342b9c113e449eebae1ce57d0299775",
            "value": " 363M/363M [00:03&lt;00:00, 97.1MB/s]"
          }
        },
        "360095d7ddfb44159dc49292108d59ab": {
          "model_module": "@jupyter-widgets/base",
          "model_name": "LayoutModel",
          "model_module_version": "1.2.0",
          "state": {
            "_model_module": "@jupyter-widgets/base",
            "_model_module_version": "1.2.0",
            "_model_name": "LayoutModel",
            "_view_count": null,
            "_view_module": "@jupyter-widgets/base",
            "_view_module_version": "1.2.0",
            "_view_name": "LayoutView",
            "align_content": null,
            "align_items": null,
            "align_self": null,
            "border": null,
            "bottom": null,
            "display": null,
            "flex": null,
            "flex_flow": null,
            "grid_area": null,
            "grid_auto_columns": null,
            "grid_auto_flow": null,
            "grid_auto_rows": null,
            "grid_column": null,
            "grid_gap": null,
            "grid_row": null,
            "grid_template_areas": null,
            "grid_template_columns": null,
            "grid_template_rows": null,
            "height": null,
            "justify_content": null,
            "justify_items": null,
            "left": null,
            "margin": null,
            "max_height": null,
            "max_width": null,
            "min_height": null,
            "min_width": null,
            "object_fit": null,
            "object_position": null,
            "order": null,
            "overflow": null,
            "overflow_x": null,
            "overflow_y": null,
            "padding": null,
            "right": null,
            "top": null,
            "visibility": null,
            "width": null
          }
        },
        "89c09746e4d449358c2824698f868e91": {
          "model_module": "@jupyter-widgets/base",
          "model_name": "LayoutModel",
          "model_module_version": "1.2.0",
          "state": {
            "_model_module": "@jupyter-widgets/base",
            "_model_module_version": "1.2.0",
            "_model_name": "LayoutModel",
            "_view_count": null,
            "_view_module": "@jupyter-widgets/base",
            "_view_module_version": "1.2.0",
            "_view_name": "LayoutView",
            "align_content": null,
            "align_items": null,
            "align_self": null,
            "border": null,
            "bottom": null,
            "display": null,
            "flex": null,
            "flex_flow": null,
            "grid_area": null,
            "grid_auto_columns": null,
            "grid_auto_flow": null,
            "grid_auto_rows": null,
            "grid_column": null,
            "grid_gap": null,
            "grid_row": null,
            "grid_template_areas": null,
            "grid_template_columns": null,
            "grid_template_rows": null,
            "height": null,
            "justify_content": null,
            "justify_items": null,
            "left": null,
            "margin": null,
            "max_height": null,
            "max_width": null,
            "min_height": null,
            "min_width": null,
            "object_fit": null,
            "object_position": null,
            "order": null,
            "overflow": null,
            "overflow_x": null,
            "overflow_y": null,
            "padding": null,
            "right": null,
            "top": null,
            "visibility": null,
            "width": null
          }
        },
        "59a863a75b6f4692be14548b30112e0a": {
          "model_module": "@jupyter-widgets/controls",
          "model_name": "DescriptionStyleModel",
          "model_module_version": "1.5.0",
          "state": {
            "_model_module": "@jupyter-widgets/controls",
            "_model_module_version": "1.5.0",
            "_model_name": "DescriptionStyleModel",
            "_view_count": null,
            "_view_module": "@jupyter-widgets/base",
            "_view_module_version": "1.2.0",
            "_view_name": "StyleView",
            "description_width": ""
          }
        },
        "6398f2cdc12b4505aa0d804135dde8a1": {
          "model_module": "@jupyter-widgets/base",
          "model_name": "LayoutModel",
          "model_module_version": "1.2.0",
          "state": {
            "_model_module": "@jupyter-widgets/base",
            "_model_module_version": "1.2.0",
            "_model_name": "LayoutModel",
            "_view_count": null,
            "_view_module": "@jupyter-widgets/base",
            "_view_module_version": "1.2.0",
            "_view_name": "LayoutView",
            "align_content": null,
            "align_items": null,
            "align_self": null,
            "border": null,
            "bottom": null,
            "display": null,
            "flex": null,
            "flex_flow": null,
            "grid_area": null,
            "grid_auto_columns": null,
            "grid_auto_flow": null,
            "grid_auto_rows": null,
            "grid_column": null,
            "grid_gap": null,
            "grid_row": null,
            "grid_template_areas": null,
            "grid_template_columns": null,
            "grid_template_rows": null,
            "height": null,
            "justify_content": null,
            "justify_items": null,
            "left": null,
            "margin": null,
            "max_height": null,
            "max_width": null,
            "min_height": null,
            "min_width": null,
            "object_fit": null,
            "object_position": null,
            "order": null,
            "overflow": null,
            "overflow_x": null,
            "overflow_y": null,
            "padding": null,
            "right": null,
            "top": null,
            "visibility": null,
            "width": null
          }
        },
        "bb6ddb23c9554395ac405f7b4626af45": {
          "model_module": "@jupyter-widgets/controls",
          "model_name": "ProgressStyleModel",
          "model_module_version": "1.5.0",
          "state": {
            "_model_module": "@jupyter-widgets/controls",
            "_model_module_version": "1.5.0",
            "_model_name": "ProgressStyleModel",
            "_view_count": null,
            "_view_module": "@jupyter-widgets/base",
            "_view_module_version": "1.2.0",
            "_view_name": "StyleView",
            "bar_color": null,
            "description_width": ""
          }
        },
        "74003ec49f234413b612a3f1ee87181d": {
          "model_module": "@jupyter-widgets/base",
          "model_name": "LayoutModel",
          "model_module_version": "1.2.0",
          "state": {
            "_model_module": "@jupyter-widgets/base",
            "_model_module_version": "1.2.0",
            "_model_name": "LayoutModel",
            "_view_count": null,
            "_view_module": "@jupyter-widgets/base",
            "_view_module_version": "1.2.0",
            "_view_name": "LayoutView",
            "align_content": null,
            "align_items": null,
            "align_self": null,
            "border": null,
            "bottom": null,
            "display": null,
            "flex": null,
            "flex_flow": null,
            "grid_area": null,
            "grid_auto_columns": null,
            "grid_auto_flow": null,
            "grid_auto_rows": null,
            "grid_column": null,
            "grid_gap": null,
            "grid_row": null,
            "grid_template_areas": null,
            "grid_template_columns": null,
            "grid_template_rows": null,
            "height": null,
            "justify_content": null,
            "justify_items": null,
            "left": null,
            "margin": null,
            "max_height": null,
            "max_width": null,
            "min_height": null,
            "min_width": null,
            "object_fit": null,
            "object_position": null,
            "order": null,
            "overflow": null,
            "overflow_x": null,
            "overflow_y": null,
            "padding": null,
            "right": null,
            "top": null,
            "visibility": null,
            "width": null
          }
        },
        "3342b9c113e449eebae1ce57d0299775": {
          "model_module": "@jupyter-widgets/controls",
          "model_name": "DescriptionStyleModel",
          "model_module_version": "1.5.0",
          "state": {
            "_model_module": "@jupyter-widgets/controls",
            "_model_module_version": "1.5.0",
            "_model_name": "DescriptionStyleModel",
            "_view_count": null,
            "_view_module": "@jupyter-widgets/base",
            "_view_module_version": "1.2.0",
            "_view_name": "StyleView",
            "description_width": ""
          }
        },
        "f5d2a9091d414914803b63a171341011": {
          "model_module": "@jupyter-widgets/controls",
          "model_name": "HBoxModel",
          "model_module_version": "1.5.0",
          "state": {
            "_dom_classes": [],
            "_model_module": "@jupyter-widgets/controls",
            "_model_module_version": "1.5.0",
            "_model_name": "HBoxModel",
            "_view_count": null,
            "_view_module": "@jupyter-widgets/controls",
            "_view_module_version": "1.5.0",
            "_view_name": "HBoxView",
            "box_style": "",
            "children": [
              "IPY_MODEL_8655aac1f14340de8f26c2191a05262d",
              "IPY_MODEL_f0434136200f429d8a2aafd48b29ecd2",
              "IPY_MODEL_84eb16614b2b40a6b212aab538ee60c7"
            ],
            "layout": "IPY_MODEL_d069fd301c694e56b239cfd2b82e0dc8"
          }
        },
        "8655aac1f14340de8f26c2191a05262d": {
          "model_module": "@jupyter-widgets/controls",
          "model_name": "HTMLModel",
          "model_module_version": "1.5.0",
          "state": {
            "_dom_classes": [],
            "_model_module": "@jupyter-widgets/controls",
            "_model_module_version": "1.5.0",
            "_model_name": "HTMLModel",
            "_view_count": null,
            "_view_module": "@jupyter-widgets/controls",
            "_view_module_version": "1.5.0",
            "_view_name": "HTMLView",
            "description": "",
            "description_tooltip": null,
            "layout": "IPY_MODEL_18b4e07284ba4c05933f6e70f09900bf",
            "placeholder": "​",
            "style": "IPY_MODEL_b6955d5ffc1c4ba08ac054f88feac390",
            "value": "Downloading (…)okenizer_config.json: 100%"
          }
        },
        "f0434136200f429d8a2aafd48b29ecd2": {
          "model_module": "@jupyter-widgets/controls",
          "model_name": "FloatProgressModel",
          "model_module_version": "1.5.0",
          "state": {
            "_dom_classes": [],
            "_model_module": "@jupyter-widgets/controls",
            "_model_module_version": "1.5.0",
            "_model_name": "FloatProgressModel",
            "_view_count": null,
            "_view_module": "@jupyter-widgets/controls",
            "_view_module_version": "1.5.0",
            "_view_name": "ProgressView",
            "bar_style": "success",
            "description": "",
            "description_tooltip": null,
            "layout": "IPY_MODEL_6fdb747ba0a448a182638db4afa76efd",
            "max": 28,
            "min": 0,
            "orientation": "horizontal",
            "style": "IPY_MODEL_20d1fe291b94407b90fef23d0792322a",
            "value": 28
          }
        },
        "84eb16614b2b40a6b212aab538ee60c7": {
          "model_module": "@jupyter-widgets/controls",
          "model_name": "HTMLModel",
          "model_module_version": "1.5.0",
          "state": {
            "_dom_classes": [],
            "_model_module": "@jupyter-widgets/controls",
            "_model_module_version": "1.5.0",
            "_model_name": "HTMLModel",
            "_view_count": null,
            "_view_module": "@jupyter-widgets/controls",
            "_view_module_version": "1.5.0",
            "_view_name": "HTMLView",
            "description": "",
            "description_tooltip": null,
            "layout": "IPY_MODEL_4248efb21f1a4e3a9363a782af798831",
            "placeholder": "​",
            "style": "IPY_MODEL_4da705e82b2c4d1b88a75dc0d3d131f6",
            "value": " 28.0/28.0 [00:00&lt;00:00, 818B/s]"
          }
        },
        "d069fd301c694e56b239cfd2b82e0dc8": {
          "model_module": "@jupyter-widgets/base",
          "model_name": "LayoutModel",
          "model_module_version": "1.2.0",
          "state": {
            "_model_module": "@jupyter-widgets/base",
            "_model_module_version": "1.2.0",
            "_model_name": "LayoutModel",
            "_view_count": null,
            "_view_module": "@jupyter-widgets/base",
            "_view_module_version": "1.2.0",
            "_view_name": "LayoutView",
            "align_content": null,
            "align_items": null,
            "align_self": null,
            "border": null,
            "bottom": null,
            "display": null,
            "flex": null,
            "flex_flow": null,
            "grid_area": null,
            "grid_auto_columns": null,
            "grid_auto_flow": null,
            "grid_auto_rows": null,
            "grid_column": null,
            "grid_gap": null,
            "grid_row": null,
            "grid_template_areas": null,
            "grid_template_columns": null,
            "grid_template_rows": null,
            "height": null,
            "justify_content": null,
            "justify_items": null,
            "left": null,
            "margin": null,
            "max_height": null,
            "max_width": null,
            "min_height": null,
            "min_width": null,
            "object_fit": null,
            "object_position": null,
            "order": null,
            "overflow": null,
            "overflow_x": null,
            "overflow_y": null,
            "padding": null,
            "right": null,
            "top": null,
            "visibility": null,
            "width": null
          }
        },
        "18b4e07284ba4c05933f6e70f09900bf": {
          "model_module": "@jupyter-widgets/base",
          "model_name": "LayoutModel",
          "model_module_version": "1.2.0",
          "state": {
            "_model_module": "@jupyter-widgets/base",
            "_model_module_version": "1.2.0",
            "_model_name": "LayoutModel",
            "_view_count": null,
            "_view_module": "@jupyter-widgets/base",
            "_view_module_version": "1.2.0",
            "_view_name": "LayoutView",
            "align_content": null,
            "align_items": null,
            "align_self": null,
            "border": null,
            "bottom": null,
            "display": null,
            "flex": null,
            "flex_flow": null,
            "grid_area": null,
            "grid_auto_columns": null,
            "grid_auto_flow": null,
            "grid_auto_rows": null,
            "grid_column": null,
            "grid_gap": null,
            "grid_row": null,
            "grid_template_areas": null,
            "grid_template_columns": null,
            "grid_template_rows": null,
            "height": null,
            "justify_content": null,
            "justify_items": null,
            "left": null,
            "margin": null,
            "max_height": null,
            "max_width": null,
            "min_height": null,
            "min_width": null,
            "object_fit": null,
            "object_position": null,
            "order": null,
            "overflow": null,
            "overflow_x": null,
            "overflow_y": null,
            "padding": null,
            "right": null,
            "top": null,
            "visibility": null,
            "width": null
          }
        },
        "b6955d5ffc1c4ba08ac054f88feac390": {
          "model_module": "@jupyter-widgets/controls",
          "model_name": "DescriptionStyleModel",
          "model_module_version": "1.5.0",
          "state": {
            "_model_module": "@jupyter-widgets/controls",
            "_model_module_version": "1.5.0",
            "_model_name": "DescriptionStyleModel",
            "_view_count": null,
            "_view_module": "@jupyter-widgets/base",
            "_view_module_version": "1.2.0",
            "_view_name": "StyleView",
            "description_width": ""
          }
        },
        "6fdb747ba0a448a182638db4afa76efd": {
          "model_module": "@jupyter-widgets/base",
          "model_name": "LayoutModel",
          "model_module_version": "1.2.0",
          "state": {
            "_model_module": "@jupyter-widgets/base",
            "_model_module_version": "1.2.0",
            "_model_name": "LayoutModel",
            "_view_count": null,
            "_view_module": "@jupyter-widgets/base",
            "_view_module_version": "1.2.0",
            "_view_name": "LayoutView",
            "align_content": null,
            "align_items": null,
            "align_self": null,
            "border": null,
            "bottom": null,
            "display": null,
            "flex": null,
            "flex_flow": null,
            "grid_area": null,
            "grid_auto_columns": null,
            "grid_auto_flow": null,
            "grid_auto_rows": null,
            "grid_column": null,
            "grid_gap": null,
            "grid_row": null,
            "grid_template_areas": null,
            "grid_template_columns": null,
            "grid_template_rows": null,
            "height": null,
            "justify_content": null,
            "justify_items": null,
            "left": null,
            "margin": null,
            "max_height": null,
            "max_width": null,
            "min_height": null,
            "min_width": null,
            "object_fit": null,
            "object_position": null,
            "order": null,
            "overflow": null,
            "overflow_x": null,
            "overflow_y": null,
            "padding": null,
            "right": null,
            "top": null,
            "visibility": null,
            "width": null
          }
        },
        "20d1fe291b94407b90fef23d0792322a": {
          "model_module": "@jupyter-widgets/controls",
          "model_name": "ProgressStyleModel",
          "model_module_version": "1.5.0",
          "state": {
            "_model_module": "@jupyter-widgets/controls",
            "_model_module_version": "1.5.0",
            "_model_name": "ProgressStyleModel",
            "_view_count": null,
            "_view_module": "@jupyter-widgets/base",
            "_view_module_version": "1.2.0",
            "_view_name": "StyleView",
            "bar_color": null,
            "description_width": ""
          }
        },
        "4248efb21f1a4e3a9363a782af798831": {
          "model_module": "@jupyter-widgets/base",
          "model_name": "LayoutModel",
          "model_module_version": "1.2.0",
          "state": {
            "_model_module": "@jupyter-widgets/base",
            "_model_module_version": "1.2.0",
            "_model_name": "LayoutModel",
            "_view_count": null,
            "_view_module": "@jupyter-widgets/base",
            "_view_module_version": "1.2.0",
            "_view_name": "LayoutView",
            "align_content": null,
            "align_items": null,
            "align_self": null,
            "border": null,
            "bottom": null,
            "display": null,
            "flex": null,
            "flex_flow": null,
            "grid_area": null,
            "grid_auto_columns": null,
            "grid_auto_flow": null,
            "grid_auto_rows": null,
            "grid_column": null,
            "grid_gap": null,
            "grid_row": null,
            "grid_template_areas": null,
            "grid_template_columns": null,
            "grid_template_rows": null,
            "height": null,
            "justify_content": null,
            "justify_items": null,
            "left": null,
            "margin": null,
            "max_height": null,
            "max_width": null,
            "min_height": null,
            "min_width": null,
            "object_fit": null,
            "object_position": null,
            "order": null,
            "overflow": null,
            "overflow_x": null,
            "overflow_y": null,
            "padding": null,
            "right": null,
            "top": null,
            "visibility": null,
            "width": null
          }
        },
        "4da705e82b2c4d1b88a75dc0d3d131f6": {
          "model_module": "@jupyter-widgets/controls",
          "model_name": "DescriptionStyleModel",
          "model_module_version": "1.5.0",
          "state": {
            "_model_module": "@jupyter-widgets/controls",
            "_model_module_version": "1.5.0",
            "_model_name": "DescriptionStyleModel",
            "_view_count": null,
            "_view_module": "@jupyter-widgets/base",
            "_view_module_version": "1.2.0",
            "_view_name": "StyleView",
            "description_width": ""
          }
        },
        "02929faf8d7042c4972b7c6cd8a20168": {
          "model_module": "@jupyter-widgets/controls",
          "model_name": "HBoxModel",
          "model_module_version": "1.5.0",
          "state": {
            "_dom_classes": [],
            "_model_module": "@jupyter-widgets/controls",
            "_model_module_version": "1.5.0",
            "_model_name": "HBoxModel",
            "_view_count": null,
            "_view_module": "@jupyter-widgets/controls",
            "_view_module_version": "1.5.0",
            "_view_name": "HBoxView",
            "box_style": "",
            "children": [
              "IPY_MODEL_bf69147e82e544259b4d0f84889a82b9",
              "IPY_MODEL_1cf2646f02f24b299b486b205f77b5b9",
              "IPY_MODEL_391f6186a1564bcd9367066028bb21c9"
            ],
            "layout": "IPY_MODEL_a41aa02620754f1d85c74e950a197c48"
          }
        },
        "bf69147e82e544259b4d0f84889a82b9": {
          "model_module": "@jupyter-widgets/controls",
          "model_name": "HTMLModel",
          "model_module_version": "1.5.0",
          "state": {
            "_dom_classes": [],
            "_model_module": "@jupyter-widgets/controls",
            "_model_module_version": "1.5.0",
            "_model_name": "HTMLModel",
            "_view_count": null,
            "_view_module": "@jupyter-widgets/controls",
            "_view_module_version": "1.5.0",
            "_view_name": "HTMLView",
            "description": "",
            "description_tooltip": null,
            "layout": "IPY_MODEL_9d35ba5ae27d4a9e8b3259a14599e1fc",
            "placeholder": "​",
            "style": "IPY_MODEL_8197920f1df24f989138019e70628609",
            "value": "Downloading (…)solve/main/vocab.txt: 100%"
          }
        },
        "1cf2646f02f24b299b486b205f77b5b9": {
          "model_module": "@jupyter-widgets/controls",
          "model_name": "FloatProgressModel",
          "model_module_version": "1.5.0",
          "state": {
            "_dom_classes": [],
            "_model_module": "@jupyter-widgets/controls",
            "_model_module_version": "1.5.0",
            "_model_name": "FloatProgressModel",
            "_view_count": null,
            "_view_module": "@jupyter-widgets/controls",
            "_view_module_version": "1.5.0",
            "_view_name": "ProgressView",
            "bar_style": "success",
            "description": "",
            "description_tooltip": null,
            "layout": "IPY_MODEL_620dbc2c661a4d22a0d363db8eaf85a5",
            "max": 231508,
            "min": 0,
            "orientation": "horizontal",
            "style": "IPY_MODEL_68ae85c0a1cc4edeab2a6adff2afa527",
            "value": 231508
          }
        },
        "391f6186a1564bcd9367066028bb21c9": {
          "model_module": "@jupyter-widgets/controls",
          "model_name": "HTMLModel",
          "model_module_version": "1.5.0",
          "state": {
            "_dom_classes": [],
            "_model_module": "@jupyter-widgets/controls",
            "_model_module_version": "1.5.0",
            "_model_name": "HTMLModel",
            "_view_count": null,
            "_view_module": "@jupyter-widgets/controls",
            "_view_module_version": "1.5.0",
            "_view_name": "HTMLView",
            "description": "",
            "description_tooltip": null,
            "layout": "IPY_MODEL_7e6e80b8b2504d86b3a48d1ef40c71a3",
            "placeholder": "​",
            "style": "IPY_MODEL_13ebd9c4770c416cb442429f157a04ba",
            "value": " 232k/232k [00:00&lt;00:00, 348kB/s]"
          }
        },
        "a41aa02620754f1d85c74e950a197c48": {
          "model_module": "@jupyter-widgets/base",
          "model_name": "LayoutModel",
          "model_module_version": "1.2.0",
          "state": {
            "_model_module": "@jupyter-widgets/base",
            "_model_module_version": "1.2.0",
            "_model_name": "LayoutModel",
            "_view_count": null,
            "_view_module": "@jupyter-widgets/base",
            "_view_module_version": "1.2.0",
            "_view_name": "LayoutView",
            "align_content": null,
            "align_items": null,
            "align_self": null,
            "border": null,
            "bottom": null,
            "display": null,
            "flex": null,
            "flex_flow": null,
            "grid_area": null,
            "grid_auto_columns": null,
            "grid_auto_flow": null,
            "grid_auto_rows": null,
            "grid_column": null,
            "grid_gap": null,
            "grid_row": null,
            "grid_template_areas": null,
            "grid_template_columns": null,
            "grid_template_rows": null,
            "height": null,
            "justify_content": null,
            "justify_items": null,
            "left": null,
            "margin": null,
            "max_height": null,
            "max_width": null,
            "min_height": null,
            "min_width": null,
            "object_fit": null,
            "object_position": null,
            "order": null,
            "overflow": null,
            "overflow_x": null,
            "overflow_y": null,
            "padding": null,
            "right": null,
            "top": null,
            "visibility": null,
            "width": null
          }
        },
        "9d35ba5ae27d4a9e8b3259a14599e1fc": {
          "model_module": "@jupyter-widgets/base",
          "model_name": "LayoutModel",
          "model_module_version": "1.2.0",
          "state": {
            "_model_module": "@jupyter-widgets/base",
            "_model_module_version": "1.2.0",
            "_model_name": "LayoutModel",
            "_view_count": null,
            "_view_module": "@jupyter-widgets/base",
            "_view_module_version": "1.2.0",
            "_view_name": "LayoutView",
            "align_content": null,
            "align_items": null,
            "align_self": null,
            "border": null,
            "bottom": null,
            "display": null,
            "flex": null,
            "flex_flow": null,
            "grid_area": null,
            "grid_auto_columns": null,
            "grid_auto_flow": null,
            "grid_auto_rows": null,
            "grid_column": null,
            "grid_gap": null,
            "grid_row": null,
            "grid_template_areas": null,
            "grid_template_columns": null,
            "grid_template_rows": null,
            "height": null,
            "justify_content": null,
            "justify_items": null,
            "left": null,
            "margin": null,
            "max_height": null,
            "max_width": null,
            "min_height": null,
            "min_width": null,
            "object_fit": null,
            "object_position": null,
            "order": null,
            "overflow": null,
            "overflow_x": null,
            "overflow_y": null,
            "padding": null,
            "right": null,
            "top": null,
            "visibility": null,
            "width": null
          }
        },
        "8197920f1df24f989138019e70628609": {
          "model_module": "@jupyter-widgets/controls",
          "model_name": "DescriptionStyleModel",
          "model_module_version": "1.5.0",
          "state": {
            "_model_module": "@jupyter-widgets/controls",
            "_model_module_version": "1.5.0",
            "_model_name": "DescriptionStyleModel",
            "_view_count": null,
            "_view_module": "@jupyter-widgets/base",
            "_view_module_version": "1.2.0",
            "_view_name": "StyleView",
            "description_width": ""
          }
        },
        "620dbc2c661a4d22a0d363db8eaf85a5": {
          "model_module": "@jupyter-widgets/base",
          "model_name": "LayoutModel",
          "model_module_version": "1.2.0",
          "state": {
            "_model_module": "@jupyter-widgets/base",
            "_model_module_version": "1.2.0",
            "_model_name": "LayoutModel",
            "_view_count": null,
            "_view_module": "@jupyter-widgets/base",
            "_view_module_version": "1.2.0",
            "_view_name": "LayoutView",
            "align_content": null,
            "align_items": null,
            "align_self": null,
            "border": null,
            "bottom": null,
            "display": null,
            "flex": null,
            "flex_flow": null,
            "grid_area": null,
            "grid_auto_columns": null,
            "grid_auto_flow": null,
            "grid_auto_rows": null,
            "grid_column": null,
            "grid_gap": null,
            "grid_row": null,
            "grid_template_areas": null,
            "grid_template_columns": null,
            "grid_template_rows": null,
            "height": null,
            "justify_content": null,
            "justify_items": null,
            "left": null,
            "margin": null,
            "max_height": null,
            "max_width": null,
            "min_height": null,
            "min_width": null,
            "object_fit": null,
            "object_position": null,
            "order": null,
            "overflow": null,
            "overflow_x": null,
            "overflow_y": null,
            "padding": null,
            "right": null,
            "top": null,
            "visibility": null,
            "width": null
          }
        },
        "68ae85c0a1cc4edeab2a6adff2afa527": {
          "model_module": "@jupyter-widgets/controls",
          "model_name": "ProgressStyleModel",
          "model_module_version": "1.5.0",
          "state": {
            "_model_module": "@jupyter-widgets/controls",
            "_model_module_version": "1.5.0",
            "_model_name": "ProgressStyleModel",
            "_view_count": null,
            "_view_module": "@jupyter-widgets/base",
            "_view_module_version": "1.2.0",
            "_view_name": "StyleView",
            "bar_color": null,
            "description_width": ""
          }
        },
        "7e6e80b8b2504d86b3a48d1ef40c71a3": {
          "model_module": "@jupyter-widgets/base",
          "model_name": "LayoutModel",
          "model_module_version": "1.2.0",
          "state": {
            "_model_module": "@jupyter-widgets/base",
            "_model_module_version": "1.2.0",
            "_model_name": "LayoutModel",
            "_view_count": null,
            "_view_module": "@jupyter-widgets/base",
            "_view_module_version": "1.2.0",
            "_view_name": "LayoutView",
            "align_content": null,
            "align_items": null,
            "align_self": null,
            "border": null,
            "bottom": null,
            "display": null,
            "flex": null,
            "flex_flow": null,
            "grid_area": null,
            "grid_auto_columns": null,
            "grid_auto_flow": null,
            "grid_auto_rows": null,
            "grid_column": null,
            "grid_gap": null,
            "grid_row": null,
            "grid_template_areas": null,
            "grid_template_columns": null,
            "grid_template_rows": null,
            "height": null,
            "justify_content": null,
            "justify_items": null,
            "left": null,
            "margin": null,
            "max_height": null,
            "max_width": null,
            "min_height": null,
            "min_width": null,
            "object_fit": null,
            "object_position": null,
            "order": null,
            "overflow": null,
            "overflow_x": null,
            "overflow_y": null,
            "padding": null,
            "right": null,
            "top": null,
            "visibility": null,
            "width": null
          }
        },
        "13ebd9c4770c416cb442429f157a04ba": {
          "model_module": "@jupyter-widgets/controls",
          "model_name": "DescriptionStyleModel",
          "model_module_version": "1.5.0",
          "state": {
            "_model_module": "@jupyter-widgets/controls",
            "_model_module_version": "1.5.0",
            "_model_name": "DescriptionStyleModel",
            "_view_count": null,
            "_view_module": "@jupyter-widgets/base",
            "_view_module_version": "1.2.0",
            "_view_name": "StyleView",
            "description_width": ""
          }
        },
        "b0aec3668d804c2f8e33a6a6abbe73e5": {
          "model_module": "@jupyter-widgets/controls",
          "model_name": "HBoxModel",
          "model_module_version": "1.5.0",
          "state": {
            "_dom_classes": [],
            "_model_module": "@jupyter-widgets/controls",
            "_model_module_version": "1.5.0",
            "_model_name": "HBoxModel",
            "_view_count": null,
            "_view_module": "@jupyter-widgets/controls",
            "_view_module_version": "1.5.0",
            "_view_name": "HBoxView",
            "box_style": "",
            "children": [
              "IPY_MODEL_e7d0eeeddb044b758e22b3373bf80ad6",
              "IPY_MODEL_4414128df27a42739f76a9bcf2e42b5f",
              "IPY_MODEL_9639e2201ce941d9b1a1c32b34b6aa9c"
            ],
            "layout": "IPY_MODEL_f7cad043dc3e4bd48c9be9edc3cb917a"
          }
        },
        "e7d0eeeddb044b758e22b3373bf80ad6": {
          "model_module": "@jupyter-widgets/controls",
          "model_name": "HTMLModel",
          "model_module_version": "1.5.0",
          "state": {
            "_dom_classes": [],
            "_model_module": "@jupyter-widgets/controls",
            "_model_module_version": "1.5.0",
            "_model_name": "HTMLModel",
            "_view_count": null,
            "_view_module": "@jupyter-widgets/controls",
            "_view_module_version": "1.5.0",
            "_view_name": "HTMLView",
            "description": "",
            "description_tooltip": null,
            "layout": "IPY_MODEL_b92056396d4c47b0a0af895a06596a91",
            "placeholder": "​",
            "style": "IPY_MODEL_1e94d23c71084a6f8b8d404b7c997592",
            "value": "Downloading (…)/main/tokenizer.json: 100%"
          }
        },
        "4414128df27a42739f76a9bcf2e42b5f": {
          "model_module": "@jupyter-widgets/controls",
          "model_name": "FloatProgressModel",
          "model_module_version": "1.5.0",
          "state": {
            "_dom_classes": [],
            "_model_module": "@jupyter-widgets/controls",
            "_model_module_version": "1.5.0",
            "_model_name": "FloatProgressModel",
            "_view_count": null,
            "_view_module": "@jupyter-widgets/controls",
            "_view_module_version": "1.5.0",
            "_view_name": "ProgressView",
            "bar_style": "success",
            "description": "",
            "description_tooltip": null,
            "layout": "IPY_MODEL_f3f00107b5a4444e82afaf3b370e100b",
            "max": 466062,
            "min": 0,
            "orientation": "horizontal",
            "style": "IPY_MODEL_88f884d0e8d64507b2b6ec59af38de99",
            "value": 466062
          }
        },
        "9639e2201ce941d9b1a1c32b34b6aa9c": {
          "model_module": "@jupyter-widgets/controls",
          "model_name": "HTMLModel",
          "model_module_version": "1.5.0",
          "state": {
            "_dom_classes": [],
            "_model_module": "@jupyter-widgets/controls",
            "_model_module_version": "1.5.0",
            "_model_name": "HTMLModel",
            "_view_count": null,
            "_view_module": "@jupyter-widgets/controls",
            "_view_module_version": "1.5.0",
            "_view_name": "HTMLView",
            "description": "",
            "description_tooltip": null,
            "layout": "IPY_MODEL_8a11a324179947c1b49b5cf11bfc52ea",
            "placeholder": "​",
            "style": "IPY_MODEL_3c494adf101646bc95c5b6405fb3bbee",
            "value": " 466k/466k [00:01&lt;00:00, 420kB/s]"
          }
        },
        "f7cad043dc3e4bd48c9be9edc3cb917a": {
          "model_module": "@jupyter-widgets/base",
          "model_name": "LayoutModel",
          "model_module_version": "1.2.0",
          "state": {
            "_model_module": "@jupyter-widgets/base",
            "_model_module_version": "1.2.0",
            "_model_name": "LayoutModel",
            "_view_count": null,
            "_view_module": "@jupyter-widgets/base",
            "_view_module_version": "1.2.0",
            "_view_name": "LayoutView",
            "align_content": null,
            "align_items": null,
            "align_self": null,
            "border": null,
            "bottom": null,
            "display": null,
            "flex": null,
            "flex_flow": null,
            "grid_area": null,
            "grid_auto_columns": null,
            "grid_auto_flow": null,
            "grid_auto_rows": null,
            "grid_column": null,
            "grid_gap": null,
            "grid_row": null,
            "grid_template_areas": null,
            "grid_template_columns": null,
            "grid_template_rows": null,
            "height": null,
            "justify_content": null,
            "justify_items": null,
            "left": null,
            "margin": null,
            "max_height": null,
            "max_width": null,
            "min_height": null,
            "min_width": null,
            "object_fit": null,
            "object_position": null,
            "order": null,
            "overflow": null,
            "overflow_x": null,
            "overflow_y": null,
            "padding": null,
            "right": null,
            "top": null,
            "visibility": null,
            "width": null
          }
        },
        "b92056396d4c47b0a0af895a06596a91": {
          "model_module": "@jupyter-widgets/base",
          "model_name": "LayoutModel",
          "model_module_version": "1.2.0",
          "state": {
            "_model_module": "@jupyter-widgets/base",
            "_model_module_version": "1.2.0",
            "_model_name": "LayoutModel",
            "_view_count": null,
            "_view_module": "@jupyter-widgets/base",
            "_view_module_version": "1.2.0",
            "_view_name": "LayoutView",
            "align_content": null,
            "align_items": null,
            "align_self": null,
            "border": null,
            "bottom": null,
            "display": null,
            "flex": null,
            "flex_flow": null,
            "grid_area": null,
            "grid_auto_columns": null,
            "grid_auto_flow": null,
            "grid_auto_rows": null,
            "grid_column": null,
            "grid_gap": null,
            "grid_row": null,
            "grid_template_areas": null,
            "grid_template_columns": null,
            "grid_template_rows": null,
            "height": null,
            "justify_content": null,
            "justify_items": null,
            "left": null,
            "margin": null,
            "max_height": null,
            "max_width": null,
            "min_height": null,
            "min_width": null,
            "object_fit": null,
            "object_position": null,
            "order": null,
            "overflow": null,
            "overflow_x": null,
            "overflow_y": null,
            "padding": null,
            "right": null,
            "top": null,
            "visibility": null,
            "width": null
          }
        },
        "1e94d23c71084a6f8b8d404b7c997592": {
          "model_module": "@jupyter-widgets/controls",
          "model_name": "DescriptionStyleModel",
          "model_module_version": "1.5.0",
          "state": {
            "_model_module": "@jupyter-widgets/controls",
            "_model_module_version": "1.5.0",
            "_model_name": "DescriptionStyleModel",
            "_view_count": null,
            "_view_module": "@jupyter-widgets/base",
            "_view_module_version": "1.2.0",
            "_view_name": "StyleView",
            "description_width": ""
          }
        },
        "f3f00107b5a4444e82afaf3b370e100b": {
          "model_module": "@jupyter-widgets/base",
          "model_name": "LayoutModel",
          "model_module_version": "1.2.0",
          "state": {
            "_model_module": "@jupyter-widgets/base",
            "_model_module_version": "1.2.0",
            "_model_name": "LayoutModel",
            "_view_count": null,
            "_view_module": "@jupyter-widgets/base",
            "_view_module_version": "1.2.0",
            "_view_name": "LayoutView",
            "align_content": null,
            "align_items": null,
            "align_self": null,
            "border": null,
            "bottom": null,
            "display": null,
            "flex": null,
            "flex_flow": null,
            "grid_area": null,
            "grid_auto_columns": null,
            "grid_auto_flow": null,
            "grid_auto_rows": null,
            "grid_column": null,
            "grid_gap": null,
            "grid_row": null,
            "grid_template_areas": null,
            "grid_template_columns": null,
            "grid_template_rows": null,
            "height": null,
            "justify_content": null,
            "justify_items": null,
            "left": null,
            "margin": null,
            "max_height": null,
            "max_width": null,
            "min_height": null,
            "min_width": null,
            "object_fit": null,
            "object_position": null,
            "order": null,
            "overflow": null,
            "overflow_x": null,
            "overflow_y": null,
            "padding": null,
            "right": null,
            "top": null,
            "visibility": null,
            "width": null
          }
        },
        "88f884d0e8d64507b2b6ec59af38de99": {
          "model_module": "@jupyter-widgets/controls",
          "model_name": "ProgressStyleModel",
          "model_module_version": "1.5.0",
          "state": {
            "_model_module": "@jupyter-widgets/controls",
            "_model_module_version": "1.5.0",
            "_model_name": "ProgressStyleModel",
            "_view_count": null,
            "_view_module": "@jupyter-widgets/base",
            "_view_module_version": "1.2.0",
            "_view_name": "StyleView",
            "bar_color": null,
            "description_width": ""
          }
        },
        "8a11a324179947c1b49b5cf11bfc52ea": {
          "model_module": "@jupyter-widgets/base",
          "model_name": "LayoutModel",
          "model_module_version": "1.2.0",
          "state": {
            "_model_module": "@jupyter-widgets/base",
            "_model_module_version": "1.2.0",
            "_model_name": "LayoutModel",
            "_view_count": null,
            "_view_module": "@jupyter-widgets/base",
            "_view_module_version": "1.2.0",
            "_view_name": "LayoutView",
            "align_content": null,
            "align_items": null,
            "align_self": null,
            "border": null,
            "bottom": null,
            "display": null,
            "flex": null,
            "flex_flow": null,
            "grid_area": null,
            "grid_auto_columns": null,
            "grid_auto_flow": null,
            "grid_auto_rows": null,
            "grid_column": null,
            "grid_gap": null,
            "grid_row": null,
            "grid_template_areas": null,
            "grid_template_columns": null,
            "grid_template_rows": null,
            "height": null,
            "justify_content": null,
            "justify_items": null,
            "left": null,
            "margin": null,
            "max_height": null,
            "max_width": null,
            "min_height": null,
            "min_width": null,
            "object_fit": null,
            "object_position": null,
            "order": null,
            "overflow": null,
            "overflow_x": null,
            "overflow_y": null,
            "padding": null,
            "right": null,
            "top": null,
            "visibility": null,
            "width": null
          }
        },
        "3c494adf101646bc95c5b6405fb3bbee": {
          "model_module": "@jupyter-widgets/controls",
          "model_name": "DescriptionStyleModel",
          "model_module_version": "1.5.0",
          "state": {
            "_model_module": "@jupyter-widgets/controls",
            "_model_module_version": "1.5.0",
            "_model_name": "DescriptionStyleModel",
            "_view_count": null,
            "_view_module": "@jupyter-widgets/base",
            "_view_module_version": "1.2.0",
            "_view_name": "StyleView",
            "description_width": ""
          }
        }
      }
    }
  },
  "cells": [
    {
      "cell_type": "markdown",
      "metadata": {
        "id": "view-in-github",
        "colab_type": "text"
      },
      "source": [
        "<a href=\"https://colab.research.google.com/github/Satwikram/HuggingFace/blob/main/Fine-tuning%20a%20masked%20language%20model.ipynb\" target=\"_parent\"><img src=\"https://colab.research.google.com/assets/colab-badge.svg\" alt=\"Open In Colab\"/></a>"
      ]
    },
    {
      "cell_type": "markdown",
      "source": [
        "### Author: Satwik Ram K"
      ],
      "metadata": {
        "id": "S04DsFerUhwx"
      }
    },
    {
      "cell_type": "markdown",
      "source": [
        "### Setup"
      ],
      "metadata": {
        "id": "F9VaA5ItUktZ"
      }
    },
    {
      "cell_type": "code",
      "execution_count": null,
      "metadata": {
        "id": "JAi_gyh1TUBK"
      },
      "outputs": [],
      "source": [
        "!pip install transformers"
      ]
    },
    {
      "cell_type": "markdown",
      "source": [
        "![image.png](data:image/png;base64,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)"
      ],
      "metadata": {
        "id": "5owP-KykUrcs"
      }
    },
    {
      "cell_type": "markdown",
      "source": [
        "### Importing Dependencies"
      ],
      "metadata": {
        "id": "brbrzkM0VhvG"
      }
    },
    {
      "cell_type": "code",
      "source": [
        "from transformers import TFAutoModelForMaskedLM, AutoTokenizer\n",
        "import numpy as np\n",
        "import tensorflow as tf"
      ],
      "metadata": {
        "id": "skXMpT0gUoAH"
      },
      "execution_count": 9,
      "outputs": []
    },
    {
      "cell_type": "markdown",
      "source": [
        "### Initializing the model"
      ],
      "metadata": {
        "id": "SWaDVz4CVluh"
      }
    },
    {
      "cell_type": "code",
      "source": [
        "model_checkpoint = \"distilbert-base-uncased\"\n",
        "model = TFAutoModelForMaskedLM.from_pretrained(model_checkpoint)"
      ],
      "metadata": {
        "colab": {
          "base_uri": "https://localhost:8080/",
          "height": 188,
          "referenced_widgets": [
            "b64b783ba81a437ebc3aada10c562873",
            "280d809d3cb64fd9a669128b3c060abd",
            "d9356f1c6bdf4da7815c1e41505af14e",
            "c07d80d6e6a64a849d77725482c5cb22",
            "67faec87c6ec47a7982a6d83846d33c8",
            "0afcaf2525de4bd1a1c06cfceec8cd9e",
            "4fb4c1aaffb3406dbdee4f3b5437045d",
            "a477ce8be4c448f9a0a90f03fdbe034b",
            "24337d7eaef746e5b50cbca715ab3b34",
            "6159fd51dea44db58e5561a9a8273182",
            "94be2320ca664bc99803fda5d2215ae2",
            "2b6124ca97a14d5394cf4641554bcb7e",
            "afcc8378c5ff44c6a0fcf8a441f063e4",
            "7fa7bc1e23484a7b9d77ce1601c8579e",
            "0c87a523ad1746dca1dbca1ac2dfe0ac",
            "360095d7ddfb44159dc49292108d59ab",
            "89c09746e4d449358c2824698f868e91",
            "59a863a75b6f4692be14548b30112e0a",
            "6398f2cdc12b4505aa0d804135dde8a1",
            "bb6ddb23c9554395ac405f7b4626af45",
            "74003ec49f234413b612a3f1ee87181d",
            "3342b9c113e449eebae1ce57d0299775"
          ]
        },
        "id": "adyYXNxgVk4c",
        "outputId": "0cb8543f-73f1-470b-f30a-948e07b264b4"
      },
      "execution_count": 3,
      "outputs": [
        {
          "output_type": "display_data",
          "data": {
            "text/plain": [
              "Downloading (…)lve/main/config.json:   0%|          | 0.00/483 [00:00<?, ?B/s]"
            ],
            "application/vnd.jupyter.widget-view+json": {
              "version_major": 2,
              "version_minor": 0,
              "model_id": "b64b783ba81a437ebc3aada10c562873"
            }
          },
          "metadata": {}
        },
        {
          "output_type": "display_data",
          "data": {
            "text/plain": [
              "Downloading (…)\"tf_model.h5\";:   0%|          | 0.00/363M [00:00<?, ?B/s]"
            ],
            "application/vnd.jupyter.widget-view+json": {
              "version_major": 2,
              "version_minor": 0,
              "model_id": "2b6124ca97a14d5394cf4641554bcb7e"
            }
          },
          "metadata": {}
        },
        {
          "output_type": "stream",
          "name": "stderr",
          "text": [
            "Some layers from the model checkpoint at distilbert-base-uncased were not used when initializing TFDistilBertForMaskedLM: ['activation_13']\n",
            "- This IS expected if you are initializing TFDistilBertForMaskedLM from the checkpoint of a model trained on another task or with another architecture (e.g. initializing a BertForSequenceClassification model from a BertForPreTraining model).\n",
            "- This IS NOT expected if you are initializing TFDistilBertForMaskedLM from the checkpoint of a model that you expect to be exactly identical (initializing a BertForSequenceClassification model from a BertForSequenceClassification model).\n",
            "All the layers of TFDistilBertForMaskedLM were initialized from the model checkpoint at distilbert-base-uncased.\n",
            "If your task is similar to the task the model of the checkpoint was trained on, you can already use TFDistilBertForMaskedLM for predictions without further training.\n"
          ]
        }
      ]
    },
    {
      "cell_type": "code",
      "source": [
        "model.summary()"
      ],
      "metadata": {
        "colab": {
          "base_uri": "https://localhost:8080/"
        },
        "id": "pxtVpJgWVn4R",
        "outputId": "5aac9bf5-29d1-4127-d333-bdf81c8afebe"
      },
      "execution_count": 4,
      "outputs": [
        {
          "output_type": "stream",
          "name": "stdout",
          "text": [
            "Model: \"tf_distil_bert_for_masked_lm\"\n",
            "_________________________________________________________________\n",
            " Layer (type)                Output Shape              Param #   \n",
            "=================================================================\n",
            " distilbert (TFDistilBertMai  multiple                 66362880  \n",
            " nLayer)                                                         \n",
            "                                                                 \n",
            " vocab_transform (Dense)     multiple                  590592    \n",
            "                                                                 \n",
            " vocab_layer_norm (LayerNorm  multiple                 1536      \n",
            " alization)                                                      \n",
            "                                                                 \n",
            " vocab_projector (TFDistilBe  multiple                 23866170  \n",
            " rtLMHead)                                                       \n",
            "                                                                 \n",
            "=================================================================\n",
            "Total params: 66,985,530\n",
            "Trainable params: 66,985,530\n",
            "Non-trainable params: 0\n",
            "_________________________________________________________________\n"
          ]
        }
      ]
    },
    {
      "cell_type": "code",
      "source": [
        "text = \"This is a great [MASK].\""
      ],
      "metadata": {
        "id": "ZxeYUnibVtLO"
      },
      "execution_count": 5,
      "outputs": []
    },
    {
      "cell_type": "markdown",
      "source": [
        "### Tokenization"
      ],
      "metadata": {
        "id": "qkln4EbvV6-Y"
      }
    },
    {
      "cell_type": "code",
      "source": [
        "tokenizer = AutoTokenizer.from_pretrained(model_checkpoint)"
      ],
      "metadata": {
        "colab": {
          "base_uri": "https://localhost:8080/",
          "height": 113,
          "referenced_widgets": [
            "f5d2a9091d414914803b63a171341011",
            "8655aac1f14340de8f26c2191a05262d",
            "f0434136200f429d8a2aafd48b29ecd2",
            "84eb16614b2b40a6b212aab538ee60c7",
            "d069fd301c694e56b239cfd2b82e0dc8",
            "18b4e07284ba4c05933f6e70f09900bf",
            "b6955d5ffc1c4ba08ac054f88feac390",
            "6fdb747ba0a448a182638db4afa76efd",
            "20d1fe291b94407b90fef23d0792322a",
            "4248efb21f1a4e3a9363a782af798831",
            "4da705e82b2c4d1b88a75dc0d3d131f6",
            "02929faf8d7042c4972b7c6cd8a20168",
            "bf69147e82e544259b4d0f84889a82b9",
            "1cf2646f02f24b299b486b205f77b5b9",
            "391f6186a1564bcd9367066028bb21c9",
            "a41aa02620754f1d85c74e950a197c48",
            "9d35ba5ae27d4a9e8b3259a14599e1fc",
            "8197920f1df24f989138019e70628609",
            "620dbc2c661a4d22a0d363db8eaf85a5",
            "68ae85c0a1cc4edeab2a6adff2afa527",
            "7e6e80b8b2504d86b3a48d1ef40c71a3",
            "13ebd9c4770c416cb442429f157a04ba",
            "b0aec3668d804c2f8e33a6a6abbe73e5",
            "e7d0eeeddb044b758e22b3373bf80ad6",
            "4414128df27a42739f76a9bcf2e42b5f",
            "9639e2201ce941d9b1a1c32b34b6aa9c",
            "f7cad043dc3e4bd48c9be9edc3cb917a",
            "b92056396d4c47b0a0af895a06596a91",
            "1e94d23c71084a6f8b8d404b7c997592",
            "f3f00107b5a4444e82afaf3b370e100b",
            "88f884d0e8d64507b2b6ec59af38de99",
            "8a11a324179947c1b49b5cf11bfc52ea",
            "3c494adf101646bc95c5b6405fb3bbee"
          ]
        },
        "id": "J0LjbtlqVxvt",
        "outputId": "7b37d47a-d7e3-4ba3-cad1-2a14156ee948"
      },
      "execution_count": 8,
      "outputs": [
        {
          "output_type": "display_data",
          "data": {
            "text/plain": [
              "Downloading (…)okenizer_config.json:   0%|          | 0.00/28.0 [00:00<?, ?B/s]"
            ],
            "application/vnd.jupyter.widget-view+json": {
              "version_major": 2,
              "version_minor": 0,
              "model_id": "f5d2a9091d414914803b63a171341011"
            }
          },
          "metadata": {}
        },
        {
          "output_type": "display_data",
          "data": {
            "text/plain": [
              "Downloading (…)solve/main/vocab.txt:   0%|          | 0.00/232k [00:00<?, ?B/s]"
            ],
            "application/vnd.jupyter.widget-view+json": {
              "version_major": 2,
              "version_minor": 0,
              "model_id": "02929faf8d7042c4972b7c6cd8a20168"
            }
          },
          "metadata": {}
        },
        {
          "output_type": "display_data",
          "data": {
            "text/plain": [
              "Downloading (…)/main/tokenizer.json:   0%|          | 0.00/466k [00:00<?, ?B/s]"
            ],
            "application/vnd.jupyter.widget-view+json": {
              "version_major": 2,
              "version_minor": 0,
              "model_id": "b0aec3668d804c2f8e33a6a6abbe73e5"
            }
          },
          "metadata": {}
        }
      ]
    },
    {
      "cell_type": "markdown",
      "source": [
        "With a tokenizer and a model, we can now pass our text example to the model, extract the logits, and print out the top 5 candidates:"
      ],
      "metadata": {
        "id": "Ger1ksneWAZb"
      }
    },
    {
      "cell_type": "code",
      "source": [
        "inputs = tokenizer(text, return_tensors=\"np\")"
      ],
      "metadata": {
        "id": "E1oV0Eo5WXWh"
      },
      "execution_count": 10,
      "outputs": []
    },
    {
      "cell_type": "code",
      "source": [
        "inputs"
      ],
      "metadata": {
        "colab": {
          "base_uri": "https://localhost:8080/"
        },
        "id": "9jfiOlwWWY3d",
        "outputId": "72e16c2d-4712-4174-9fd9-7ebf11a78b23"
      },
      "execution_count": 11,
      "outputs": [
        {
          "output_type": "execute_result",
          "data": {
            "text/plain": [
              "{'input_ids': array([[ 101, 2023, 2003, 1037, 2307,  103, 1012,  102]]), 'attention_mask': array([[1, 1, 1, 1, 1, 1, 1, 1]])}"
            ]
          },
          "metadata": {},
          "execution_count": 11
        }
      ]
    },
    {
      "cell_type": "code",
      "source": [
        "token_logits = model(**inputs).logits"
      ],
      "metadata": {
        "id": "6BK1M4NuWaMK"
      },
      "execution_count": 12,
      "outputs": []
    },
    {
      "cell_type": "code",
      "source": [
        "token_logits"
      ],
      "metadata": {
        "colab": {
          "base_uri": "https://localhost:8080/"
        },
        "id": "R5O1Ar3CWcCy",
        "outputId": "b60d8f1c-aedf-4a03-93e7-829d402f4cdd"
      },
      "execution_count": 13,
      "outputs": [
        {
          "output_type": "execute_result",
          "data": {
            "text/plain": [
              "<tf.Tensor: shape=(1, 8, 30522), dtype=float32, numpy=\n",
              "array([[[ -5.588161 ,  -5.5868373,  -5.5958486, ...,  -4.9447727,\n",
              "          -4.8174024,  -2.9905226],\n",
              "        [-11.90314  , -11.887163 , -12.062249 , ..., -10.95697  ,\n",
              "         -10.646375 ,  -8.632356 ],\n",
              "        [-11.960378 , -12.152035 , -12.127866 , ..., -10.021761 ,\n",
              "          -8.607408 ,  -8.097103 ],\n",
              "        ...,\n",
              "        [ -4.8227916,  -4.6267867,  -5.104059 , ...,  -4.2771416,\n",
              "          -5.018431 ,  -3.9427614],\n",
              "        [-11.294456 , -11.23876  , -11.385687 , ...,  -9.206297 ,\n",
              "          -9.341139 ,  -6.1504908],\n",
              "        [ -9.521323 ,  -9.4632225,  -9.502177 , ...,  -8.6560955,\n",
              "          -8.490813 ,  -4.6902914]]], dtype=float32)>"
            ]
          },
          "metadata": {},
          "execution_count": 13
        }
      ]
    },
    {
      "cell_type": "code",
      "source": [
        "inputs[\"input_ids\"]"
      ],
      "metadata": {
        "colab": {
          "base_uri": "https://localhost:8080/"
        },
        "id": "lbsd74XhXqny",
        "outputId": "3360c967-58f8-46d0-a98f-6153baf7c9e3"
      },
      "execution_count": 15,
      "outputs": [
        {
          "output_type": "execute_result",
          "data": {
            "text/plain": [
              "array([[ 101, 2023, 2003, 1037, 2307,  103, 1012,  102]])"
            ]
          },
          "metadata": {},
          "execution_count": 15
        }
      ]
    },
    {
      "cell_type": "code",
      "source": [
        "tokenizer.mask_token_id"
      ],
      "metadata": {
        "colab": {
          "base_uri": "https://localhost:8080/"
        },
        "id": "dwHJYDIHXtZ5",
        "outputId": "9964ea60-67f4-4cc3-fb9e-8e5c925461dc"
      },
      "execution_count": 16,
      "outputs": [
        {
          "output_type": "execute_result",
          "data": {
            "text/plain": [
              "103"
            ]
          },
          "metadata": {},
          "execution_count": 16
        }
      ]
    },
    {
      "cell_type": "code",
      "source": [
        "np.argwhere(inputs[\"input_ids\"] == tokenizer.mask_token_id)[0, 1]"
      ],
      "metadata": {
        "colab": {
          "base_uri": "https://localhost:8080/"
        },
        "id": "s5xYIHhiYDN9",
        "outputId": "559adb69-bc9c-4deb-c320-f35af59b434f"
      },
      "execution_count": 20,
      "outputs": [
        {
          "output_type": "execute_result",
          "data": {
            "text/plain": [
              "5"
            ]
          },
          "metadata": {},
          "execution_count": 20
        }
      ]
    },
    {
      "cell_type": "code",
      "source": [
        "# Find the location of [MASK] and extract its logits\n",
        "mask_token_index = np.argwhere(inputs[\"input_ids\"] == tokenizer.mask_token_id)[0, 1]\n",
        "mask_token_logits = token_logits[0, mask_token_index, :]"
      ],
      "metadata": {
        "id": "bhWzPX7eXAqC"
      },
      "execution_count": 21,
      "outputs": []
    },
    {
      "cell_type": "code",
      "source": [
        "mask_token_logits"
      ],
      "metadata": {
        "colab": {
          "base_uri": "https://localhost:8080/"
        },
        "id": "SXo5_ZXAYW7y",
        "outputId": "3580afa0-5c7c-4ca9-e1f4-d5cff56fbf07"
      },
      "execution_count": 24,
      "outputs": [
        {
          "output_type": "execute_result",
          "data": {
            "text/plain": [
              "<tf.Tensor: shape=(30522,), dtype=float32, numpy=\n",
              "array([-4.8227916, -4.6267867, -5.104059 , ..., -4.2771416, -5.018431 ,\n",
              "       -3.9427614], dtype=float32)>"
            ]
          },
          "metadata": {},
          "execution_count": 24
        }
      ]
    },
    {
      "cell_type": "code",
      "source": [
        "# Pick the [MASK] candidates with the highest logits\n",
        "# We negate the array before argsort to get the largest, not the smallest, logits\n",
        "top_5_tokens = np.argsort(-mask_token_logits)[:5].tolist()\n",
        "\n",
        "for token in top_5_tokens:\n",
        "    print(f\">>> {text.replace(tokenizer.mask_token, tokenizer.decode([token]))}\")"
      ],
      "metadata": {
        "colab": {
          "base_uri": "https://localhost:8080/"
        },
        "id": "WBx6fFOvV8w2",
        "outputId": "d83aa0c4-b78d-46aa-8c4e-aac8a042480e"
      },
      "execution_count": 25,
      "outputs": [
        {
          "output_type": "stream",
          "name": "stdout",
          "text": [
            ">>> This is a great deal.\n",
            ">>> This is a great success.\n",
            ">>> This is a great adventure.\n",
            ">>> This is a great idea.\n",
            ">>> This is a great feat.\n"
          ]
        }
      ]
    },
    {
      "cell_type": "code",
      "source": [],
      "metadata": {
        "id": "CGTkq87sZdIR"
      },
      "execution_count": null,
      "outputs": []
    }
  ]
}